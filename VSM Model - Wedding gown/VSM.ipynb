{
  "nbformat": 4,
  "nbformat_minor": 0,
  "metadata": {
    "colab": {
      "provenance": []
    },
    "kernelspec": {
      "name": "python3",
      "display_name": "Python 3"
    },
    "language_info": {
      "name": "python"
    }
  },
  "cells": [
    {
      "cell_type": "code",
      "execution_count": 6,
      "metadata": {
        "colab": {
          "base_uri": "https://localhost:8080/"
        },
        "id": "f_uHJyK-DtVW",
        "outputId": "b535e36f-13a6-4187-b727-6176a665f33c"
      },
      "outputs": [
        {
          "output_type": "stream",
          "name": "stdout",
          "text": [
            "Vocabulary Vector (Gown, Rose, Diamond, Flowers):  ['carat' 'diamond' 'flowers' 'gown' 'line' 'on' 'online' 'ordered' 'ring'\n",
            " 'rose' 'searched' 'selected' 'user' 'wedding' 'white']\n",
            "d1:  [0 0 0 1 0 0 0 0 0 0 0 1 1 1 0]\n",
            "d2:  [0 0 1 0 1 1 0 1 0 1 0 0 1 0 0]\n",
            "d3:  [0 1 0 0 0 0 0 0 1 0 1 0 1 0 0]\n",
            "d4:  [1 1 1 1 0 0 1 0 1 0 0 1 1 1 1]\n"
          ]
        }
      ],
      "source": [
        "from sklearn.feature_extraction.text import CountVectorizer\n",
        "import numpy as np\n",
        "\n",
        "# Define the documents\n",
        "d1 = \"User selected Wedding gown.\"\n",
        "d2 = \"User ordered on-line rose flowers.\"\n",
        "d3 = \"User searched diamond ring.\"\n",
        "d4 = \"User selected white wedding gown, online flowers, 3 carat diamond ring.\"\n",
        "\n",
        "# Build the Vocabulary\n",
        "cv = CountVectorizer()\n",
        "cv_fit=cv.fit_transform([d1,d2,d3,d4])\n",
        "\n",
        "# Build the Vectors\n",
        "vector = cv_fit.toarray()\n",
        "\n",
        "# Display the vectors\n",
        "print(\"Vocabulary Vector (Gown, Rose, Diamond, Flowers): \", cv.get_feature_names_out())\n",
        "print(\"d1: \", vector[0])\n",
        "print(\"d2: \", vector[1])\n",
        "print(\"d3: \", vector[2])\n",
        "print(\"d4: \", vector[3])"
      ]
    },
    {
      "cell_type": "code",
      "source": [
        "from sklearn.metrics.pairwise import cosine_similarity\n",
        "\n",
        "# Calculate Cosine Similarity\n",
        "similarity = cosine_similarity(vector)\n",
        "\n",
        "# Print the similarity scores\n",
        "print(\"Similarity Matrix: \", similarity)"
      ],
      "metadata": {
        "colab": {
          "base_uri": "https://localhost:8080/"
        },
        "id": "x6SdGtUEFNNE",
        "outputId": "d75f2851-1456-4f21-b6bf-9afb51b42949"
      },
      "execution_count": 7,
      "outputs": [
        {
          "output_type": "stream",
          "name": "stdout",
          "text": [
            "Similarity Matrix:  [[1.         0.20412415 0.25       0.63245553]\n",
            " [0.20412415 1.         0.20412415 0.25819889]\n",
            " [0.25       0.20412415 1.         0.47434165]\n",
            " [0.63245553 0.25819889 0.47434165 1.        ]]\n"
          ]
        }
      ]
    }
  ]
}